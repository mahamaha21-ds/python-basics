{
 "cells": [
  {
   "cell_type": "code",
   "execution_count": null,
   "id": "fbd3b43b-d84b-4dd4-add2-46586eaa859a",
   "metadata": {},
   "outputs": [],
   "source": [
    "#LOOP LIST"
   ]
  },
  {
   "cell_type": "code",
   "execution_count": 4,
   "id": "861c5c0a-e9b2-45bb-af9d-e7e60d905cc4",
   "metadata": {},
   "outputs": [
    {
     "name": "stdout",
     "output_type": "stream",
     "text": [
      "alphabets\n",
      "child\n",
      "funny\n",
      "life\n"
     ]
    }
   ],
   "source": [
    "for i in ['alphabets','child','funny','life']:\n",
    "    print(i)"
   ]
  },
  {
   "cell_type": "code",
   "execution_count": 3,
   "id": "aea97115-6021-40e2-b87b-a9a3cb95bb4d",
   "metadata": {},
   "outputs": [
    {
     "name": "stdout",
     "output_type": "stream",
     "text": [
      "apple\n",
      "banana\n",
      "cherry\n"
     ]
    }
   ],
   "source": [
    "mylist = ['apple', 'banana', 'cherry']\n",
    "i = 0\n",
    "while i < len(mylist):\n",
    "  print(mylist[i])\n",
    "  i = i + 1\n"
   ]
  },
  {
   "cell_type": "code",
   "execution_count": 1,
   "id": "453803cc-65ab-444a-a7ee-dba18cac5c03",
   "metadata": {},
   "outputs": [
    {
     "name": "stdout",
     "output_type": "stream",
     "text": [
      "child\n",
      "balls\n",
      "happiness\n",
      "life\n"
     ]
    }
   ],
   "source": [
    "a = ['child', 'balls', 'happiness', 'life']\n",
    "i = 0\n",
    "while i < 4:\n",
    "    print(a[i])\n",
    "    i = i + 1\n"
   ]
  },
  {
   "cell_type": "code",
   "execution_count": 5,
   "id": "2df24f28-2ffd-4ada-90b0-22bb203fea81",
   "metadata": {},
   "outputs": [],
   "source": [
    "#list comprehension"
   ]
  },
  {
   "cell_type": "code",
   "execution_count": null,
   "id": "b7c554ae-1a73-4b1a-996f-9e46bcc795f8",
   "metadata": {},
   "outputs": [],
   "source": [
    "#Using [print(i) for i in ...] creates a list of None values (because print() returns None)."
   ]
  },
  {
   "cell_type": "code",
   "execution_count": 2,
   "id": "f4eefff9-5f96-4979-88e1-0fa10ecd1adc",
   "metadata": {},
   "outputs": [
    {
     "name": "stdout",
     "output_type": "stream",
     "text": [
      "apple\n",
      "baviya\n"
     ]
    },
    {
     "data": {
      "text/plain": [
       "[None, None]"
      ]
     },
     "execution_count": 2,
     "metadata": {},
     "output_type": "execute_result"
    }
   ],
   "source": [
    "[print(x) for x in [\"apple\",\"baviya\"]] "
   ]
  },
  {
   "cell_type": "code",
   "execution_count": 3,
   "id": "4627b675-6491-4508-bc0c-fcbf352413b2",
   "metadata": {},
   "outputs": [
    {
     "name": "stdout",
     "output_type": "stream",
     "text": [
      "['lemon']\n"
     ]
    }
   ],
   "source": [
    "tum=['apple','glass','lemon']\n",
    "new_tum=[x for x in tum if x==\"lemon\"]\n",
    "print(new_tum)"
   ]
  },
  {
   "cell_type": "code",
   "execution_count": 6,
   "id": "21f7da4c-4c0d-43ef-9234-ea3dae057fd0",
   "metadata": {},
   "outputs": [
    {
     "name": "stdout",
     "output_type": "stream",
     "text": [
      "['python', 'python', 'python']\n"
     ]
    }
   ],
   "source": [
    "new=['python','developer','program']\n",
    "n_new=['python' for x in new]\n",
    "print(n_new)\n"
   ]
  },
  {
   "cell_type": "code",
   "execution_count": 7,
   "id": "982e9c64-4708-4201-bb7c-3cf5a6eea605",
   "metadata": {},
   "outputs": [],
   "source": [
    "#sort lists"
   ]
  },
  {
   "cell_type": "code",
   "execution_count": 13,
   "id": "a28e019f-24ef-4f1b-a7d2-9fe8dd542721",
   "metadata": {},
   "outputs": [
    {
     "name": "stdout",
     "output_type": "stream",
     "text": [
      "[16, 20, 34]\n",
      "['apple', 'banana', 'grape']\n"
     ]
    }
   ],
   "source": [
    "lis=[20,34,16]\n",
    "a_lis=['banana','apple','grape']\n",
    "lis.sort()\n",
    "print(lis)\n",
    "a_lis.sort()\n",
    "print(a_lis)\n"
   ]
  },
  {
   "cell_type": "code",
   "execution_count": 14,
   "id": "99987282-8655-4ce0-8a32-0c5377194f2d",
   "metadata": {},
   "outputs": [
    {
     "name": "stdout",
     "output_type": "stream",
     "text": [
      "['ram', 'riyas', 'maha', 'sita']\n"
     ]
    }
   ],
   "source": [
    "lim=['sita','maha','riyas','ram']\n",
    "lim.reverse()\n",
    "print(lim)"
   ]
  },
  {
   "cell_type": "code",
   "execution_count": 19,
   "id": "9605fbfd-0ff4-485a-a8e6-d2b123df25a5",
   "metadata": {},
   "outputs": [
    {
     "name": "stdout",
     "output_type": "stream",
     "text": [
      "['sita', 'riyas', 'ram', 'maha']\n"
     ]
    }
   ],
   "source": [
    "lim.sort(reverse=True)\n",
    "print(lim)"
   ]
  },
  {
   "cell_type": "code",
   "execution_count": 22,
   "id": "620fc368-3863-4f78-8522-6c3a19f8c8dc",
   "metadata": {},
   "outputs": [],
   "source": [
    "#copylist"
   ]
  },
  {
   "cell_type": "code",
   "execution_count": 20,
   "id": "dfb0c404-add6-41f8-95cf-72f38ca298d1",
   "metadata": {},
   "outputs": [
    {
     "name": "stdout",
     "output_type": "stream",
     "text": [
      "['sita', 'ram']\n"
     ]
    }
   ],
   "source": [
    "lim1=['sita','ram']\n",
    "lim2=lim1.copy()\n",
    "print(lim2)"
   ]
  },
  {
   "cell_type": "code",
   "execution_count": 21,
   "id": "91e750dc-f754-4821-9af7-d2b0d1a8a1c1",
   "metadata": {},
   "outputs": [
    {
     "name": "stdout",
     "output_type": "stream",
     "text": [
      "['sita', 'ram']\n"
     ]
    }
   ],
   "source": [
    "lim3=list(lim2)\n",
    "print(lim3)"
   ]
  },
  {
   "cell_type": "code",
   "execution_count": 23,
   "id": "5bd986a3-973d-488b-901d-5f4e810b65f5",
   "metadata": {},
   "outputs": [
    {
     "name": "stdout",
     "output_type": "stream",
     "text": [
      "['sita', 'ram']\n"
     ]
    }
   ],
   "source": [
    "lim4=lim3[:]\n",
    "print(lim4)"
   ]
  },
  {
   "cell_type": "code",
   "execution_count": 24,
   "id": "20a3beb7-ea72-4069-870b-333b12093d71",
   "metadata": {},
   "outputs": [],
   "source": [
    "#join list"
   ]
  },
  {
   "cell_type": "code",
   "execution_count": 25,
   "id": "195218b4-024e-4e0b-9651-90501e960ada",
   "metadata": {},
   "outputs": [
    {
     "name": "stdout",
     "output_type": "stream",
     "text": [
      "['sita', 'ram', 'sita', 'ram']\n"
     ]
    }
   ],
   "source": [
    "lim5=lim2+lim4\n",
    "print(lim5)"
   ]
  },
  {
   "cell_type": "code",
   "execution_count": 26,
   "id": "ebca2b84-a6a2-4f7e-bcc5-3abe4ecc72a3",
   "metadata": {},
   "outputs": [
    {
     "name": "stdout",
     "output_type": "stream",
     "text": [
      "['sita', 'ram', 'sita', 'ram', 'sita', 'riyas', 'ram', 'maha']\n"
     ]
    }
   ],
   "source": [
    "lim5.extend(lim)\n",
    "print(lim5)"
   ]
  },
  {
   "cell_type": "code",
   "execution_count": 27,
   "id": "3ef38249-b04a-452b-9afa-f0bbd1f64a9f",
   "metadata": {},
   "outputs": [],
   "source": [
    "#tuples"
   ]
  },
  {
   "cell_type": "code",
   "execution_count": 28,
   "id": "861726e7-8fa7-49a6-b1f4-f04d54e2b0d1",
   "metadata": {},
   "outputs": [
    {
     "name": "stdout",
     "output_type": "stream",
     "text": [
      "(10, 20, 30)\n",
      "10\n"
     ]
    }
   ],
   "source": [
    "tup=(10,20,30)\n",
    "print(tup)\n",
    "print(tup[0])"
   ]
  },
  {
   "cell_type": "code",
   "execution_count": 29,
   "id": "174c91f9-8fb5-4f8d-bee7-7964e92da35f",
   "metadata": {},
   "outputs": [],
   "source": [
    "#access tuple"
   ]
  },
  {
   "cell_type": "code",
   "execution_count": 30,
   "id": "cffcd461-a26f-4e10-a29f-d23ef8f8b944",
   "metadata": {},
   "outputs": [
    {
     "name": "stdout",
     "output_type": "stream",
     "text": [
      "10\n"
     ]
    }
   ],
   "source": [
    "print(tup[0])"
   ]
  },
  {
   "cell_type": "code",
   "execution_count": 31,
   "id": "5c351e72-2a37-4089-bda4-34e0eaf5657e",
   "metadata": {},
   "outputs": [
    {
     "name": "stdout",
     "output_type": "stream",
     "text": [
      "30\n"
     ]
    }
   ],
   "source": [
    "print(tup[-1])"
   ]
  },
  {
   "cell_type": "code",
   "execution_count": 32,
   "id": "a628fabd-bea4-4089-9a61-d955684bcd3e",
   "metadata": {},
   "outputs": [
    {
     "name": "stdout",
     "output_type": "stream",
     "text": [
      "['python', 'programming']\n"
     ]
    }
   ],
   "source": [
    "impet=[\"computer\",\"python\",\"programming\",\"desktop\"]\n",
    "print(impet[1:3])"
   ]
  },
  {
   "cell_type": "code",
   "execution_count": 3,
   "id": "f6c3db9f-274a-4a0d-94f2-9af6ab02a446",
   "metadata": {},
   "outputs": [],
   "source": [
    "#update tuple"
   ]
  },
  {
   "cell_type": "code",
   "execution_count": 5,
   "id": "5abcb4d1-7cc7-42c4-97ef-77d9fdbb7447",
   "metadata": {},
   "outputs": [
    {
     "name": "stdout",
     "output_type": "stream",
     "text": [
      "['jenny', 'charlin', 'rosm']\n"
     ]
    }
   ],
   "source": [
    "chara=('jenny','charlin','rosm')\n",
    "print(list(chara))"
   ]
  },
  {
   "cell_type": "code",
   "execution_count": 6,
   "id": "7c309507-4942-434a-91da-e7d12319638e",
   "metadata": {},
   "outputs": [
    {
     "ename": "NameError",
     "evalue": "name 'chara' is not defined",
     "output_type": "error",
     "traceback": [
      "\u001b[1;31m---------------------------------------------------------------------------\u001b[0m",
      "\u001b[1;31mNameError\u001b[0m                                 Traceback (most recent call last)",
      "Cell \u001b[1;32mIn[6], line 2\u001b[0m\n\u001b[0;32m      1\u001b[0m \u001b[38;5;28;01mdel\u001b[39;00m chara\n\u001b[1;32m----> 2\u001b[0m \u001b[38;5;28mprint\u001b[39m(chara)\n",
      "\u001b[1;31mNameError\u001b[0m: name 'chara' is not defined"
     ]
    }
   ],
   "source": [
    "del chara\n",
    "print(chara)"
   ]
  },
  {
   "cell_type": "code",
   "execution_count": 8,
   "id": "af15b6bb-8e04-4039-aab8-3bd4f7ef0938",
   "metadata": {},
   "outputs": [],
   "source": [
    "#unpack tuple"
   ]
  },
  {
   "cell_type": "code",
   "execution_count": 9,
   "id": "b134436f-70d3-4495-881a-2c9c5d86dfad",
   "metadata": {},
   "outputs": [
    {
     "name": "stdout",
     "output_type": "stream",
     "text": [
      "berlin\n"
     ]
    }
   ],
   "source": [
    "tee=('chan','joe','berlin')\n",
    "(x,y,z)=tee\n",
    "print(z)"
   ]
  },
  {
   "cell_type": "code",
   "execution_count": 11,
   "id": "054c2413-2ae4-4c08-a206-3e8826e64f73",
   "metadata": {},
   "outputs": [
    {
     "name": "stdout",
     "output_type": "stream",
     "text": [
      "['joe', 'berlin', 'sqal', 'ben']\n"
     ]
    }
   ],
   "source": [
    "tee=('chan','joe','berlin','sqal','ben')\n",
    "(x,*y)=tee\n",
    "print(y)"
   ]
  },
  {
   "cell_type": "code",
   "execution_count": 12,
   "id": "6fc3db2c-b22d-405c-bb1b-73f3c1d48f8b",
   "metadata": {},
   "outputs": [
    {
     "name": "stdout",
     "output_type": "stream",
     "text": [
      "['joe', 'berlin', 'sqal']\n"
     ]
    }
   ],
   "source": [
    "tee=('chan','joe','berlin','sqal','ben')\n",
    "(x,*y,z)=tee\n",
    "print(y)"
   ]
  },
  {
   "cell_type": "code",
   "execution_count": 13,
   "id": "e9f48447-13e9-45ac-8a65-d0394e4b90bd",
   "metadata": {},
   "outputs": [],
   "source": [
    "#loop tuple"
   ]
  },
  {
   "cell_type": "code",
   "execution_count": 17,
   "id": "80d33ea3-5744-44df-a8c2-70b328291008",
   "metadata": {},
   "outputs": [
    {
     "name": "stdout",
     "output_type": "stream",
     "text": [
      "app\n",
      "game\n",
      "bee\n",
      "visual\n"
     ]
    }
   ],
   "source": [
    "for x in ('app','game','bee','visual'):\n",
    "    print(x)"
   ]
  },
  {
   "cell_type": "code",
   "execution_count": 4,
   "id": "9e688957-6b9b-4fc5-a5ee-a53302394572",
   "metadata": {},
   "outputs": [
    {
     "name": "stdout",
     "output_type": "stream",
     "text": [
      "0\n",
      "1\n",
      "2\n",
      "3\n"
     ]
    }
   ],
   "source": [
    "looser=('jaya','raja','ram','shela')\n",
    "for x in range(len(looser)):\n",
    "    print(x)"
   ]
  },
  {
   "cell_type": "code",
   "execution_count": 6,
   "id": "fda311e5-5f6f-41f6-837b-30835199f988",
   "metadata": {},
   "outputs": [
    {
     "name": "stdout",
     "output_type": "stream",
     "text": [
      "jaya\n",
      "raja\n",
      "ram\n",
      "shela\n"
     ]
    }
   ],
   "source": [
    "looser=('jaya','raja','ram','shela')\n",
    "for x in looser:\n",
    "    print(x)"
   ]
  },
  {
   "cell_type": "code",
   "execution_count": 7,
   "id": "4871d081-846d-42a1-a211-ada06fed0fbb",
   "metadata": {},
   "outputs": [],
   "source": [
    "#join tuples"
   ]
  },
  {
   "cell_type": "code",
   "execution_count": 9,
   "id": "5d86cf80-2034-4e00-82a7-a345a4e4a793",
   "metadata": {},
   "outputs": [
    {
     "name": "stdout",
     "output_type": "stream",
     "text": [
      "('python', 'developer', 'jaya', 'raja', 'ram', 'shela')\n"
     ]
    }
   ],
   "source": [
    "tee=('python','developer')\n",
    "lol=tee+looser\n",
    "print(lol)"
   ]
  },
  {
   "cell_type": "code",
   "execution_count": 10,
   "id": "d52d99d4-7322-4672-a306-a2425dfbb4be",
   "metadata": {},
   "outputs": [
    {
     "name": "stdout",
     "output_type": "stream",
     "text": [
      "('python', 'developer', 'python', 'developer')\n"
     ]
    }
   ],
   "source": [
    "lol=tee*2\n",
    "print(lol)"
   ]
  },
  {
   "cell_type": "code",
   "execution_count": 11,
   "id": "9a50e628-be90-4f5e-9767-cfa3b97ba579",
   "metadata": {},
   "outputs": [
    {
     "name": "stdout",
     "output_type": "stream",
     "text": [
      "(1, 2, 3, 'python', 'developer')\n"
     ]
    }
   ],
   "source": [
    "hm=(1,2,3)\n",
    "print(hm+tee)"
   ]
  },
  {
   "cell_type": "code",
   "execution_count": 12,
   "id": "60fd8758-1cc2-4862-9221-a89369b93b2c",
   "metadata": {},
   "outputs": [],
   "source": [
    "#set"
   ]
  },
  {
   "cell_type": "code",
   "execution_count": 13,
   "id": "6b21f006-9b02-4a30-93bd-9a2c3175eac4",
   "metadata": {},
   "outputs": [
    {
     "name": "stdout",
     "output_type": "stream",
     "text": [
      "{'nithish', 'baviya'}\n"
     ]
    }
   ],
   "source": [
    "pon={'nithish','baviya'}\n",
    "print(pon)"
   ]
  },
  {
   "cell_type": "code",
   "execution_count": 16,
   "id": "12a0fffd-b6ac-4b5f-afc4-8c734719b9a2",
   "metadata": {},
   "outputs": [
    {
     "name": "stdout",
     "output_type": "stream",
     "text": [
      "{20, 40, 29, 30, 15}\n"
     ]
    }
   ],
   "source": [
    "pom={15,30,29,40,15,15,20}     #in set duplicate values will be removed\n",
    "print(pom)"
   ]
  },
  {
   "cell_type": "code",
   "execution_count": 17,
   "id": "2da1790e-bd0e-4176-b582-ca92f5f882c4",
   "metadata": {},
   "outputs": [
    {
     "name": "stdout",
     "output_type": "stream",
     "text": [
      "2\n",
      "5\n"
     ]
    }
   ],
   "source": [
    "print(len(pon))\n",
    "print(len(pom))"
   ]
  },
  {
   "cell_type": "code",
   "execution_count": 18,
   "id": "b9892809-3307-4f5d-963b-fd9fbce83115",
   "metadata": {},
   "outputs": [],
   "source": [
    "#access items"
   ]
  },
  {
   "cell_type": "code",
   "execution_count": 21,
   "id": "30cfffbe-2fb2-418a-83b9-de380f80118d",
   "metadata": {},
   "outputs": [
    {
     "name": "stdout",
     "output_type": "stream",
     "text": [
      "yes\n"
     ]
    }
   ],
   "source": [
    "pon={'nithish','baviya','sharon'}\n",
    "if 'sharon' in pon:\n",
    "    print(\"yes\")"
   ]
  },
  {
   "cell_type": "code",
   "execution_count": 1,
   "id": "b6ddfe2e-ea26-4561-8251-3d898eff7282",
   "metadata": {},
   "outputs": [],
   "source": [
    "#add items"
   ]
  },
  {
   "cell_type": "code",
   "execution_count": 3,
   "id": "d9fa5b39-9764-4851-97a2-e39a0226de0e",
   "metadata": {},
   "outputs": [
    {
     "name": "stdout",
     "output_type": "stream",
     "text": [
      "{'garlin', 'baviya', 'nithish', 'sharon'}\n"
     ]
    }
   ],
   "source": [
    "pon={'nithish','baviya','sharon'}\n",
    "pon.add('garlin')\n",
    "print(pon)"
   ]
  },
  {
   "cell_type": "code",
   "execution_count": 12,
   "id": "4e89f183-f7b6-40f8-baea-ba5c1744cbef",
   "metadata": {},
   "outputs": [
    {
     "name": "stdout",
     "output_type": "stream",
     "text": [
      "{'sharon', 'develop', 'app', 'nithish', 'crazy', 'baviya'}\n"
     ]
    }
   ],
   "source": [
    "pon={'nithish','baviya','sharon'}\n",
    "late=['app','develop','crazy']\n",
    "pon.update(late)\n",
    "print(pon)"
   ]
  },
  {
   "cell_type": "code",
   "execution_count": 6,
   "id": "fe4eafe6-d661-41c9-85ba-45f5d4530da4",
   "metadata": {},
   "outputs": [
    {
     "name": "stdout",
     "output_type": "stream",
     "text": [
      "['app', 'crazy']\n"
     ]
    }
   ],
   "source": [
    "late.remove('develop')\n",
    "print(late)"
   ]
  },
  {
   "cell_type": "code",
   "execution_count": 9,
   "id": "53d64c12-623a-4124-9fdf-8ba14eca7fb7",
   "metadata": {},
   "outputs": [
    {
     "name": "stdout",
     "output_type": "stream",
     "text": [
      "{'garlin', 'baviya', 'crazy', 'develop', 'nithish'}\n"
     ]
    }
   ],
   "source": [
    "pon.discard('sharon')\n",
    "print(pon)"
   ]
  },
  {
   "cell_type": "code",
   "execution_count": 10,
   "id": "be90b8a9-a663-41eb-a0f0-30c878be6276",
   "metadata": {},
   "outputs": [
    {
     "name": "stdout",
     "output_type": "stream",
     "text": [
      "set()\n"
     ]
    }
   ],
   "source": [
    "pon.clear()\n",
    "print(pon)"
   ]
  },
  {
   "cell_type": "code",
   "execution_count": 12,
   "id": "e15ef1de-6e71-4d68-aa0e-b5e9b076afe3",
   "metadata": {},
   "outputs": [
    {
     "name": "stdout",
     "output_type": "stream",
     "text": [
      "{20, 40, 29, 30, 15}\n"
     ]
    }
   ],
   "source": [
    "pom={15,30,29,40,15,15,20}     #in set duplicate values will be removed\n",
    "print(pom)"
   ]
  },
  {
   "cell_type": "code",
   "execution_count": 13,
   "id": "03d197b8-c846-4cdc-81e9-91d4d83e4011",
   "metadata": {},
   "outputs": [
    {
     "data": {
      "text/plain": [
       "20"
      ]
     },
     "execution_count": 13,
     "metadata": {},
     "output_type": "execute_result"
    }
   ],
   "source": [
    "pom.pop()"
   ]
  },
  {
   "cell_type": "code",
   "execution_count": 14,
   "id": "36ac4402-acee-40f3-a6d8-83a8ca5c9ce6",
   "metadata": {},
   "outputs": [
    {
     "data": {
      "text/plain": [
       "40"
      ]
     },
     "execution_count": 14,
     "metadata": {},
     "output_type": "execute_result"
    }
   ],
   "source": [
    "pom.pop()"
   ]
  },
  {
   "cell_type": "code",
   "execution_count": 18,
   "id": "d14e8dca-5bc2-4fc2-8e08-2ed6c3717f18",
   "metadata": {},
   "outputs": [
    {
     "name": "stdout",
     "output_type": "stream",
     "text": [
      "maths\n",
      "app\n",
      "topper\n",
      "karthika\n"
     ]
    }
   ],
   "source": [
    "for x in {'karthika','app','topper','maths'}:\n",
    "    print(x)"
   ]
  },
  {
   "cell_type": "code",
   "execution_count": 19,
   "id": "87856583-1d71-4e13-a128-7ac0f04425d6",
   "metadata": {},
   "outputs": [
    {
     "name": "stdout",
     "output_type": "stream",
     "text": [
      "app\n",
      "develop\n"
     ]
    }
   ],
   "source": [
    "lst={'app','develop'}\n",
    "for x in lst:\n",
    "    print(x)"
   ]
  },
  {
   "cell_type": "code",
   "execution_count": 1,
   "id": "8958574e-b7eb-46f9-a02f-94551d0b6fa3",
   "metadata": {},
   "outputs": [],
   "source": [
    "#join set"
   ]
  },
  {
   "cell_type": "code",
   "execution_count": 4,
   "id": "d25ce65a-cfa4-4a99-929f-fad7102df0f2",
   "metadata": {},
   "outputs": [
    {
     "name": "stdout",
     "output_type": "stream",
     "text": [
      "{'maha', 'baviya', 'lax', 'nix', 'krithi', 'nivi'}\n"
     ]
    }
   ],
   "source": [
    "set1={'nivi','maha','krithi'}\n",
    "set2={'nix','lax','baviya'}\n",
    "set3=set1.union(set2)\n",
    "print(set3)"
   ]
  },
  {
   "cell_type": "code",
   "execution_count": 6,
   "id": "2a42980d-c89f-4bbb-b528-79983ce429b8",
   "metadata": {},
   "outputs": [
    {
     "name": "stdout",
     "output_type": "stream",
     "text": [
      "{'maha', 'baviya', 'krithi', 'nivi', 'nix', 'lax'}\n"
     ]
    }
   ],
   "source": [
    "set4=set1|set2|set3        #join multiple set\n",
    "print(set4)"
   ]
  },
  {
   "cell_type": "code",
   "execution_count": 1,
   "id": "bf9a6754-ccf3-4210-a364-727fa8ac8d35",
   "metadata": {},
   "outputs": [],
   "source": [
    "#dictionaries"
   ]
  },
  {
   "cell_type": "code",
   "execution_count": 5,
   "id": "4bc93c03-b09c-4768-b786-b9992ceddef0",
   "metadata": {},
   "outputs": [
    {
     "name": "stdout",
     "output_type": "stream",
     "text": [
      "{'name': 'hema', 'age': 45, 'std_occ': 'homemarker'}\n"
     ]
    }
   ],
   "source": [
    "x={\"name\":\"hema\",\n",
    "   \"age\":45,\n",
    "   \"std_occ\":\"homemarker\"\n",
    "  }\n",
    "print(x)"
   ]
  },
  {
   "cell_type": "code",
   "execution_count": 8,
   "id": "80401127-d2c2-4a26-84b3-a0876267c018",
   "metadata": {},
   "outputs": [
    {
     "name": "stdout",
     "output_type": "stream",
     "text": [
      "3\n"
     ]
    }
   ],
   "source": [
    "print(len(x))"
   ]
  },
  {
   "cell_type": "code",
   "execution_count": 9,
   "id": "ae9e8ab2-0c69-4d18-941a-f02e5e5ca178",
   "metadata": {},
   "outputs": [
    {
     "name": "stdout",
     "output_type": "stream",
     "text": [
      "dict_values(['hema', 45, 'homemarker'])\n"
     ]
    }
   ],
   "source": [
    "print(x.values())"
   ]
  },
  {
   "cell_type": "code",
   "execution_count": 10,
   "id": "0bd9ceaa-e839-47a7-8650-e4a081e02a28",
   "metadata": {},
   "outputs": [
    {
     "name": "stdout",
     "output_type": "stream",
     "text": [
      "dict_keys(['name', 'age', 'std_occ'])\n"
     ]
    }
   ],
   "source": [
    "print(x.keys())"
   ]
  },
  {
   "cell_type": "code",
   "execution_count": 13,
   "id": "f3e065fd-3d37-4de7-96cb-5e8401ca5d15",
   "metadata": {},
   "outputs": [
    {
     "name": "stdout",
     "output_type": "stream",
     "text": [
      "45\n"
     ]
    }
   ],
   "source": [
    "print(x.get(\"age\"))"
   ]
  },
  {
   "cell_type": "code",
   "execution_count": 14,
   "id": "3cd0e9e1-f14b-49b0-86a2-9b100e999064",
   "metadata": {},
   "outputs": [
    {
     "name": "stdout",
     "output_type": "stream",
     "text": [
      "mango\n"
     ]
    }
   ],
   "source": [
    "y={'fruits':'mango','type':'sunny'}\n",
    "print(y['fruits'])"
   ]
  },
  {
   "cell_type": "code",
   "execution_count": 17,
   "id": "1ed82d22-6639-4d50-b4a9-35e97cb9acc6",
   "metadata": {},
   "outputs": [
    {
     "name": "stdout",
     "output_type": "stream",
     "text": [
      "{'fruits': 'mangooes', 'type': 'sunny'}\n"
     ]
    }
   ],
   "source": [
    "y={'fruits':'mango','type':'sunny'}\n",
    "y['fruits']='mangooes'\n",
    "print(y)"
   ]
  },
  {
   "cell_type": "code",
   "execution_count": 18,
   "id": "a595363b-d5bd-4861-ad93-b957dd626c41",
   "metadata": {},
   "outputs": [
    {
     "name": "stdout",
     "output_type": "stream",
     "text": [
      "{'fruits': 'mangooes', 'type': 'summer'}\n"
     ]
    }
   ],
   "source": [
    "y.update({'type':'summer'})\n",
    "print(y)"
   ]
  },
  {
   "cell_type": "code",
   "execution_count": 19,
   "id": "f8f24ae7-1689-448b-9f46-8c81511e9334",
   "metadata": {},
   "outputs": [],
   "source": [
    "#add dictionary items"
   ]
  },
  {
   "cell_type": "code",
   "execution_count": 20,
   "id": "18e5ee82-5b90-4d9a-ba05-63105899128a",
   "metadata": {},
   "outputs": [
    {
     "name": "stdout",
     "output_type": "stream",
     "text": [
      "{'fruits': 'mangooes', 'type': 'summer', 'sales': 'profit'}\n"
     ]
    }
   ],
   "source": [
    "y.update({'sales':'profit'})\n",
    "print(y)"
   ]
  },
  {
   "cell_type": "code",
   "execution_count": 21,
   "id": "75d5b095-3549-4ccd-a8dc-0a985de763d9",
   "metadata": {},
   "outputs": [
    {
     "name": "stdout",
     "output_type": "stream",
     "text": [
      "{'fruits': 'mangooes', 'type': 'summer', 'sales': 'profit', 'health': 'good'}\n"
     ]
    }
   ],
   "source": [
    "y['health']='good'\n",
    "print(y)"
   ]
  },
  {
   "cell_type": "code",
   "execution_count": 22,
   "id": "5933d7da-ceb0-4c64-b4aa-25b1e7b7128b",
   "metadata": {},
   "outputs": [],
   "source": [
    "#remove dictionaries"
   ]
  },
  {
   "cell_type": "code",
   "execution_count": 23,
   "id": "1c301cd9-cb84-472a-b1f6-107b0cfb7e61",
   "metadata": {},
   "outputs": [
    {
     "name": "stdout",
     "output_type": "stream",
     "text": [
      "{'fruits': 'mangooes', 'type': 'summer', 'sales': 'profit'}\n"
     ]
    }
   ],
   "source": [
    "y.pop('health')\n",
    "print(y)"
   ]
  },
  {
   "cell_type": "code",
   "execution_count": 26,
   "id": "6ff9501d-c6dd-433f-8d3a-e633bc1b8e94",
   "metadata": {},
   "outputs": [
    {
     "name": "stdout",
     "output_type": "stream",
     "text": [
      "{'fruits': 'mangooes', 'sales': 'profit'}\n"
     ]
    }
   ],
   "source": [
    "del y['type']\n",
    "print(y)"
   ]
  },
  {
   "cell_type": "code",
   "execution_count": 27,
   "id": "9b7bb023-de12-4d0b-a9e0-c2ec67c58748",
   "metadata": {},
   "outputs": [
    {
     "name": "stdout",
     "output_type": "stream",
     "text": [
      "{}\n"
     ]
    }
   ],
   "source": [
    "y.clear()\n",
    "print(y)"
   ]
  },
  {
   "cell_type": "code",
   "execution_count": 28,
   "id": "82c88440-08d3-41a0-9ffc-f2dbb49ea945",
   "metadata": {},
   "outputs": [],
   "source": [
    "#loop dictionaries"
   ]
  },
  {
   "cell_type": "code",
   "execution_count": 30,
   "id": "61f5b12d-5f8a-41ea-abc8-b4416e6bd441",
   "metadata": {},
   "outputs": [
    {
     "name": "stdout",
     "output_type": "stream",
     "text": [
      "hema\n",
      "45\n",
      "homemarker\n"
     ]
    }
   ],
   "source": [
    "for y in x.values():\n",
    "    print(y)"
   ]
  },
  {
   "cell_type": "code",
   "execution_count": 33,
   "id": "6b8c25db-cb28-4069-8e7c-da432d25f909",
   "metadata": {},
   "outputs": [
    {
     "name": "stdout",
     "output_type": "stream",
     "text": [
      "type fruit\n",
      "name apple\n"
     ]
    }
   ],
   "source": [
    "x = {'type' : 'fruit', 'name' : 'apple'}\n",
    "for a,b in x.items():\n",
    "    print(a,b)"
   ]
  },
  {
   "cell_type": "code",
   "execution_count": 34,
   "id": "d4bc57ff-54d9-4e84-8ec6-2fd9e47d78f4",
   "metadata": {},
   "outputs": [
    {
     "name": "stdout",
     "output_type": "stream",
     "text": [
      "type\n",
      "name\n"
     ]
    }
   ],
   "source": [
    "for c in x.keys():\n",
    "    print(c)"
   ]
  },
  {
   "cell_type": "code",
   "execution_count": 37,
   "id": "e67dc202-4caa-41ec-a954-f6fd96fdd952",
   "metadata": {},
   "outputs": [],
   "source": [
    "#copy dict"
   ]
  },
  {
   "cell_type": "code",
   "execution_count": 36,
   "id": "3405ead2-7c62-4e3d-91be-422aacfda4ae",
   "metadata": {},
   "outputs": [
    {
     "name": "stdout",
     "output_type": "stream",
     "text": [
      "{'type': 'fruit', 'name': 'apple'}\n"
     ]
    }
   ],
   "source": [
    "z=x.copy()\n",
    "print(z)"
   ]
  },
  {
   "cell_type": "code",
   "execution_count": 38,
   "id": "c1f4332b-0943-4a25-9d36-685639d7750e",
   "metadata": {},
   "outputs": [],
   "source": [
    "#nested dict"
   ]
  },
  {
   "cell_type": "code",
   "execution_count": 43,
   "id": "96b0b353-ca71-4dcb-ad27-ab7566e00604",
   "metadata": {},
   "outputs": [
    {
     "name": "stdout",
     "output_type": "stream",
     "text": [
      "working\n"
     ]
    }
   ],
   "source": [
    "y={'name':'nisha','category':'working'}\n",
    "x = {'type' : 'fruit', 'name' : 'apple'}\n",
    "customer={'c1':x,'c2':y}\n",
    "print(customer['c2']['category'])"
   ]
  },
  {
   "cell_type": "code",
   "execution_count": 45,
   "id": "e30f45db-1875-4130-bc69-678548b94ad3",
   "metadata": {},
   "outputs": [
    {
     "name": "stdout",
     "output_type": "stream",
     "text": [
      "c1\n",
      "name: John\n",
      "age: 20\n",
      "c2\n",
      "name: May\n",
      "age: 23\n"
     ]
    }
   ],
   "source": [
    "a = {'name' : 'John', 'age' : 20}\n",
    "b = {'name' : 'May', 'age' : 23}\n",
    "customers = {'c1' : a, 'c2' : b}\n",
    "for x, obj in customers.items():\n",
    "  print(x)\n",
    "    \n",
    "  for y in obj:\n",
    "    print(y + ':', obj[y])\n"
   ]
  },
  {
   "cell_type": "code",
   "execution_count": null,
   "id": "fe97c644-ada1-47f2-9560-562a9a8856c3",
   "metadata": {},
   "outputs": [],
   "source": []
  }
 ],
 "metadata": {
  "kernelspec": {
   "display_name": "Python 3 (ipykernel)",
   "language": "python",
   "name": "python3"
  },
  "language_info": {
   "codemirror_mode": {
    "name": "ipython",
    "version": 3
   },
   "file_extension": ".py",
   "mimetype": "text/x-python",
   "name": "python",
   "nbconvert_exporter": "python",
   "pygments_lexer": "ipython3",
   "version": "3.12.4"
  }
 },
 "nbformat": 4,
 "nbformat_minor": 5
}
